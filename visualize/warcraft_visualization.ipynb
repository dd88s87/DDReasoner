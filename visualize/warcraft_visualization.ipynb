{
 "cells": [
  {
   "cell_type": "code",
   "execution_count": 1,
   "metadata": {
    "pycharm": {
     "name": "#%%\n"
    }
   },
   "outputs": [],
   "source": [
    "import numpy as np\n",
    "import os\n",
    "import tarfile\n",
    "import urllib.request\n",
    "from matplotlib import pyplot as plt\n",
    "%matplotlib inline"
   ]
  },
  {
   "cell_type": "markdown",
   "metadata": {},
   "source": [
    "# Warcraft Shortest Path"
   ]
  },
  {
   "cell_type": "code",
   "execution_count": 2,
   "metadata": {},
   "outputs": [
    {
     "name": "stdout",
     "output_type": "stream",
     "text": [
      "Train images shape:  (10000, 96, 96, 3)\n",
      "Train labels shape:  (10000, 12, 12)\n",
      "Weights shape: (10000, 12, 12)\n"
     ]
    },
    {
     "data": {
      "text/plain": [
       "<matplotlib.image.AxesImage at 0x7f635f949c50>"
      ]
     },
     "execution_count": 2,
     "metadata": {},
     "output_type": "execute_result"
    }
   ],
   "source": [
    "data_dir = '../data/warcraft/warcraft_shortest_path_oneskin/12x12/'\n",
    "\n",
    "data_suffix = \"maps\"\n",
    "train_prefix = \"train\"\n",
    "\n",
    "\n",
    "train_inputs = np.load(os.path.join(data_dir, train_prefix + \"_\" + data_suffix + \".npy\"))\n",
    "train_weights = np.load(os.path.join(data_dir, train_prefix + \"_vertex_weights.npy\"))\n",
    "train_labels = np.load(os.path.join(data_dir, train_prefix + \"_shortest_paths.npy\"))\n",
    "\n",
    "images = train_inputs\n",
    "\n",
    "print(\"Train images shape: \", train_inputs.shape)\n",
    "print(\"Train labels shape: \",  train_labels.shape)\n",
    "print(\"Weights shape:\", train_weights.shape)\n",
    "\n",
    "idx = 1000\n",
    "im = images[idx]\n",
    "label = train_labels[idx]\n",
    "weights = train_weights[idx]\n",
    "\n",
    "\n",
    "fig, ax = plt.subplots(1,3, figsize=(12,12))\n",
    "\n",
    "ax[0].imshow(im.astype(np.uint8))\n",
    "ax[0].set_title(\"Map\")\n",
    "ax[1].imshow(label)\n",
    "ax[1].set_title(\"Shortest path\")\n",
    "ax[2].set_title(\"Vertex weights\")\n",
    "ax[2].imshow(weights.astype(np.float32))"
   ]
  },
  {
   "cell_type": "code",
   "execution_count": 3,
   "metadata": {},
   "outputs": [],
   "source": [
    "# 保存 Map 图\n",
    "plt.figure(figsize=(96,96))\n",
    "plt.imshow(im.astype(np.uint8))\n",
    "# plt.title(\"Map\")\n",
    "plt.axis('off')  # 不显示坐标轴\n",
    "plt.savefig('map.png', bbox_inches='tight')\n",
    "plt.close()\n",
    "\n",
    "# 保存 Shortest path 图\n",
    "plt.figure(figsize=(12,12))\n",
    "plt.imshow(label)\n",
    "# plt.title(\"Shortest Path\")\n",
    "plt.axis('off')\n",
    "plt.savefig('shortest_path.png', bbox_inches='tight')\n",
    "plt.close()\n",
    "\n",
    "# 保存 Vertex weights 图\n",
    "plt.figure(figsize=(12,12))\n",
    "plt.imshow(weights.astype(np.float32))\n",
    "# plt.title(\"Vertex Weights\")\n",
    "plt.axis('off')\n",
    "plt.savefig('vertex_weights.png', bbox_inches='tight')\n",
    "plt.close()"
   ]
  }
 ],
 "metadata": {
  "kernelspec": {
   "display_name": "base",
   "language": "python",
   "name": "python3"
  },
  "language_info": {
   "codemirror_mode": {
    "name": "ipython",
    "version": 3
   },
   "file_extension": ".py",
   "mimetype": "text/x-python",
   "name": "python",
   "nbconvert_exporter": "python",
   "pygments_lexer": "ipython3",
   "version": "3.11.9"
  },
  "metadata": {
   "interpreter": {
    "hash": "82fd9ef7c28f4052dbb5b418868ebb072a158352785dcd1a312144f32fb0549a"
   }
  }
 },
 "nbformat": 4,
 "nbformat_minor": 4
}
